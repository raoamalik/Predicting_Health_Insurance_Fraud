{
 "cells": [
  {
   "cell_type": "code",
   "execution_count": 10,
   "metadata": {},
   "outputs": [],
   "source": [
    "import numpy as np\n",
    "import pandas as pd\n",
    "import matplotlib.pyplot as plt\n",
    "from sklearn.linear_model import LogisticRegression, LogisticRegressionCV\n",
    "import warnings\n",
    "warnings.filterwarnings('ignore')\n",
    "\n",
    "from pandas.plotting import scatter_matrix\n",
    "from sklearn.model_selection import train_test_split\n",
    "\n",
    "from sklearn.preprocessing import LabelEncoder\n",
    "from sklearn.preprocessing import OneHotEncoder\n",
    "from sklearn.preprocessing import LabelBinarizer\n",
    "\n",
    "from sklearn.compose import make_column_transformer\n",
    "\n",
    "from sklearn.pipeline import make_pipeline\n",
    "\n",
    "from sklearn.model_selection import cross_val_score\n",
    "\n",
    "from sklearn import metrics\n",
    "\n",
    "from sklearn.ensemble import RandomForestClassifier\n",
    "from sklearn.model_selection import cross_val_score\n",
    "\n",
    "from joblib import dump, load\n"
   ]
  },
  {
   "cell_type": "code",
   "execution_count": 11,
   "metadata": {},
   "outputs": [],
   "source": [
    "### following function loads and reads the tab separated file, containing healthcare provider \n",
    "### data, as a pandas DataFrame\n",
    "\n",
    "import os\n",
    "\n",
    "\n",
    "\n",
    "Provider_PATH = os.path.join('Medicare_Provider_Util_Payment_PUF_CY2017', 'Medicare_Provider_Util_Payment_PUF_CY2017.txt')\n",
    "\n",
    "\n",
    "def load_provider_data(provider_path=Provider_PATH):\n",
    "    provider_df = pd.read_csv(provider_path, \"\\t\")\n",
    "    return provider_df\n"
   ]
  },
  {
   "cell_type": "code",
   "execution_count": 12,
   "metadata": {},
   "outputs": [],
   "source": [
    "provider_df = load_provider_data()"
   ]
  },
  {
   "cell_type": "code",
   "execution_count": 13,
   "metadata": {},
   "outputs": [
    {
     "data": {
      "text/html": [
       "<div>\n",
       "<style scoped>\n",
       "    .dataframe tbody tr th:only-of-type {\n",
       "        vertical-align: middle;\n",
       "    }\n",
       "\n",
       "    .dataframe tbody tr th {\n",
       "        vertical-align: top;\n",
       "    }\n",
       "\n",
       "    .dataframe thead th {\n",
       "        text-align: right;\n",
       "    }\n",
       "</style>\n",
       "<table border=\"1\" class=\"dataframe\">\n",
       "  <thead>\n",
       "    <tr style=\"text-align: right;\">\n",
       "      <th></th>\n",
       "      <th>LASTNAME</th>\n",
       "      <th>FIRSTNAME</th>\n",
       "      <th>MIDNAME</th>\n",
       "      <th>BUSNAME</th>\n",
       "      <th>GENERAL</th>\n",
       "      <th>SPECIALTY</th>\n",
       "      <th>UPIN</th>\n",
       "      <th>NPI</th>\n",
       "      <th>DOB</th>\n",
       "      <th>ADDRESS</th>\n",
       "      <th>CITY</th>\n",
       "      <th>STATE</th>\n",
       "      <th>ZIP</th>\n",
       "      <th>EXCLTYPE</th>\n",
       "      <th>EXCLDATE</th>\n",
       "      <th>REINDATE</th>\n",
       "      <th>WAIVERDATE</th>\n",
       "      <th>WVRSTATE</th>\n",
       "    </tr>\n",
       "  </thead>\n",
       "  <tbody>\n",
       "    <tr>\n",
       "      <th>0</th>\n",
       "      <td>NaN</td>\n",
       "      <td>NaN</td>\n",
       "      <td></td>\n",
       "      <td>14 LAWRENCE AVE PHARMACY</td>\n",
       "      <td>PHARMACY</td>\n",
       "      <td>NaN</td>\n",
       "      <td>NaN</td>\n",
       "      <td>0</td>\n",
       "      <td>NaN</td>\n",
       "      <td>14 LAWRENCE AVENUE</td>\n",
       "      <td>SMITHTOWN</td>\n",
       "      <td>NY</td>\n",
       "      <td>11787</td>\n",
       "      <td>1128a1</td>\n",
       "      <td>19880830</td>\n",
       "      <td>0</td>\n",
       "      <td>0</td>\n",
       "      <td>NaN</td>\n",
       "    </tr>\n",
       "    <tr>\n",
       "      <th>1</th>\n",
       "      <td>NaN</td>\n",
       "      <td>NaN</td>\n",
       "      <td></td>\n",
       "      <td>143 MEDICAL EQUIPMENT CO</td>\n",
       "      <td>DME COMPANY</td>\n",
       "      <td>DME - OXYGEN</td>\n",
       "      <td>NaN</td>\n",
       "      <td>0</td>\n",
       "      <td>NaN</td>\n",
       "      <td>701 NW 36 AVENUE</td>\n",
       "      <td>MIAMI</td>\n",
       "      <td>FL</td>\n",
       "      <td>33125</td>\n",
       "      <td>1128b7</td>\n",
       "      <td>19970620</td>\n",
       "      <td>0</td>\n",
       "      <td>0</td>\n",
       "      <td>NaN</td>\n",
       "    </tr>\n",
       "    <tr>\n",
       "      <th>2</th>\n",
       "      <td>NaN</td>\n",
       "      <td>NaN</td>\n",
       "      <td></td>\n",
       "      <td>184TH STREET PHARMACY CORP</td>\n",
       "      <td>OTHER BUSINESS</td>\n",
       "      <td>PHARMACY</td>\n",
       "      <td>NaN</td>\n",
       "      <td>1922348218</td>\n",
       "      <td>NaN</td>\n",
       "      <td>69 E 184TH ST</td>\n",
       "      <td>BRONX</td>\n",
       "      <td>NY</td>\n",
       "      <td>10468</td>\n",
       "      <td>1128a1</td>\n",
       "      <td>20180419</td>\n",
       "      <td>0</td>\n",
       "      <td>0</td>\n",
       "      <td>NaN</td>\n",
       "    </tr>\n",
       "    <tr>\n",
       "      <th>3</th>\n",
       "      <td>NaN</td>\n",
       "      <td>NaN</td>\n",
       "      <td></td>\n",
       "      <td>1951 FLATBUSH AVENUE PHARMACY</td>\n",
       "      <td>PHARMACY</td>\n",
       "      <td>NaN</td>\n",
       "      <td>NaN</td>\n",
       "      <td>0</td>\n",
       "      <td>NaN</td>\n",
       "      <td>1951 FLATBUSH AVE</td>\n",
       "      <td>BROOKLYN</td>\n",
       "      <td>NY</td>\n",
       "      <td>11234</td>\n",
       "      <td>1128b5</td>\n",
       "      <td>20090319</td>\n",
       "      <td>0</td>\n",
       "      <td>0</td>\n",
       "      <td>NaN</td>\n",
       "    </tr>\n",
       "    <tr>\n",
       "      <th>4</th>\n",
       "      <td>NaN</td>\n",
       "      <td>NaN</td>\n",
       "      <td></td>\n",
       "      <td>1ST COMMUNITY HEALTH CTR, LTD</td>\n",
       "      <td>CLINIC</td>\n",
       "      <td>NaN</td>\n",
       "      <td>NaN</td>\n",
       "      <td>0</td>\n",
       "      <td>NaN</td>\n",
       "      <td>3138 W CERMAK ROAD</td>\n",
       "      <td>CHICAGO</td>\n",
       "      <td>IL</td>\n",
       "      <td>60623</td>\n",
       "      <td>1128a1</td>\n",
       "      <td>19940524</td>\n",
       "      <td>0</td>\n",
       "      <td>0</td>\n",
       "      <td>NaN</td>\n",
       "    </tr>\n",
       "  </tbody>\n",
       "</table>\n",
       "</div>"
      ],
      "text/plain": [
       "  LASTNAME FIRSTNAME MIDNAME                        BUSNAME         GENERAL  \\\n",
       "0      NaN       NaN               14 LAWRENCE AVE PHARMACY        PHARMACY   \n",
       "1      NaN       NaN               143 MEDICAL EQUIPMENT CO     DME COMPANY   \n",
       "2      NaN       NaN             184TH STREET PHARMACY CORP  OTHER BUSINESS   \n",
       "3      NaN       NaN          1951 FLATBUSH AVENUE PHARMACY        PHARMACY   \n",
       "4      NaN       NaN          1ST COMMUNITY HEALTH CTR, LTD          CLINIC   \n",
       "\n",
       "      SPECIALTY UPIN         NPI  DOB             ADDRESS       CITY STATE  \\\n",
       "0           NaN  NaN           0  NaN  14 LAWRENCE AVENUE  SMITHTOWN    NY   \n",
       "1  DME - OXYGEN  NaN           0  NaN    701 NW 36 AVENUE      MIAMI    FL   \n",
       "2      PHARMACY  NaN  1922348218  NaN       69 E 184TH ST      BRONX    NY   \n",
       "3           NaN  NaN           0  NaN   1951 FLATBUSH AVE   BROOKLYN    NY   \n",
       "4           NaN  NaN           0  NaN  3138 W CERMAK ROAD    CHICAGO    IL   \n",
       "\n",
       "     ZIP EXCLTYPE  EXCLDATE  REINDATE  WAIVERDATE WVRSTATE  \n",
       "0  11787   1128a1  19880830         0           0      NaN  \n",
       "1  33125   1128b7  19970620         0           0      NaN  \n",
       "2  10468   1128a1  20180419         0           0      NaN  \n",
       "3  11234   1128b5  20090319         0           0      NaN  \n",
       "4  60623   1128a1  19940524         0           0      NaN  "
      ]
     },
     "execution_count": 13,
     "metadata": {},
     "output_type": "execute_result"
    }
   ],
   "source": [
    "### loading convicted healthcare provider dataset\n",
    "\n",
    "convicted_df = pd.read_csv('LEIE.csv')\n",
    "convicted_df.head()"
   ]
  },
  {
   "cell_type": "code",
   "execution_count": 14,
   "metadata": {},
   "outputs": [
    {
     "data": {
      "text/plain": [
       "(72676, 18)"
      ]
     },
     "execution_count": 14,
     "metadata": {},
     "output_type": "execute_result"
    }
   ],
   "source": [
    "convicted_df.shape"
   ]
  },
  {
   "cell_type": "code",
   "execution_count": 15,
   "metadata": {},
   "outputs": [
    {
     "data": {
      "text/plain": [
       "Index(['npi', 'nppes_provider_last_org_name', 'nppes_provider_first_name',\n",
       "       'nppes_provider_mi', 'nppes_credentials', 'nppes_provider_gender',\n",
       "       'nppes_entity_code', 'nppes_provider_street1', 'nppes_provider_street2',\n",
       "       'nppes_provider_city', 'nppes_provider_zip', 'nppes_provider_state',\n",
       "       'nppes_provider_country', 'provider_type',\n",
       "       'medicare_participation_indicator', 'place_of_service', 'hcpcs_code',\n",
       "       'hcpcs_description', 'hcpcs_drug_indicator', 'line_srvc_cnt',\n",
       "       'bene_unique_cnt', 'bene_day_srvc_cnt', 'average_Medicare_allowed_amt',\n",
       "       'average_submitted_chrg_amt', 'average_Medicare_payment_amt',\n",
       "       'average_Medicare_standard_amt'],\n",
       "      dtype='object')"
      ]
     },
     "execution_count": 15,
     "metadata": {},
     "output_type": "execute_result"
    }
   ],
   "source": [
    "### A look at the available attributes\n",
    "\n",
    "columns_provider = provider_df.columns \n",
    "columns_provider"
   ]
  },
  {
   "cell_type": "markdown",
   "metadata": {},
   "source": [
    "### Searching for Missing values"
   ]
  },
  {
   "cell_type": "code",
   "execution_count": 16,
   "metadata": {},
   "outputs": [
    {
     "data": {
      "text/plain": [
       "npi                                 False\n",
       "nppes_provider_last_org_name         True\n",
       "nppes_provider_first_name            True\n",
       "nppes_provider_mi                    True\n",
       "nppes_credentials                    True\n",
       "nppes_provider_gender                True\n",
       "nppes_entity_code                    True\n",
       "nppes_provider_street1               True\n",
       "nppes_provider_street2               True\n",
       "nppes_provider_city                  True\n",
       "nppes_provider_zip                   True\n",
       "nppes_provider_state                 True\n",
       "nppes_provider_country               True\n",
       "provider_type                        True\n",
       "medicare_participation_indicator     True\n",
       "place_of_service                     True\n",
       "hcpcs_code                           True\n",
       "hcpcs_description                    True\n",
       "hcpcs_drug_indicator                 True\n",
       "line_srvc_cnt                        True\n",
       "bene_unique_cnt                      True\n",
       "bene_day_srvc_cnt                    True\n",
       "average_Medicare_allowed_amt         True\n",
       "average_submitted_chrg_amt           True\n",
       "average_Medicare_payment_amt         True\n",
       "average_Medicare_standard_amt        True\n",
       "dtype: bool"
      ]
     },
     "execution_count": 16,
     "metadata": {},
     "output_type": "execute_result"
    }
   ],
   "source": [
    "pd.isnull(provider_df).any()"
   ]
  },
  {
   "cell_type": "code",
   "execution_count": 17,
   "metadata": {},
   "outputs": [
    {
     "data": {
      "text/plain": [
       "LASTNAME       True\n",
       "FIRSTNAME      True\n",
       "MIDNAME       False\n",
       "BUSNAME        True\n",
       "GENERAL       False\n",
       "SPECIALTY      True\n",
       "UPIN           True\n",
       "NPI           False\n",
       "DOB            True\n",
       "ADDRESS        True\n",
       "CITY           True\n",
       "STATE          True\n",
       "ZIP           False\n",
       "EXCLTYPE      False\n",
       "EXCLDATE      False\n",
       "REINDATE      False\n",
       "WAIVERDATE    False\n",
       "WVRSTATE       True\n",
       "dtype: bool"
      ]
     },
     "execution_count": 17,
     "metadata": {},
     "output_type": "execute_result"
    }
   ],
   "source": [
    "pd.isnull(convicted_df).any()"
   ]
  },
  {
   "cell_type": "code",
   "execution_count": 18,
   "metadata": {},
   "outputs": [],
   "source": [
    "provider_df = provider_df[1:]  ### dropping the first instance, in provider dataset, which is not an NPI"
   ]
  },
  {
   "cell_type": "markdown",
   "metadata": {},
   "source": [
    "### Performing Dimensionality Reduction"
   ]
  },
  {
   "cell_type": "code",
   "execution_count": 19,
   "metadata": {},
   "outputs": [],
   "source": [
    "### selecting the important attributes/features and dropping instances with missing values\n",
    "\n",
    "selected_provider_data = provider_df[['npi', 'nppes_provider_gender', 'provider_type', \n",
    "                             'line_srvc_cnt', 'bene_unique_cnt', 'bene_day_srvc_cnt',\n",
    "                             'average_submitted_chrg_amt', 'average_Medicare_allowed_amt', \n",
    "                             'average_Medicare_payment_amt']].dropna(axis=0)\n"
   ]
  },
  {
   "cell_type": "code",
   "execution_count": 20,
   "metadata": {},
   "outputs": [
    {
     "data": {
      "text/plain": [
       "npi                             False\n",
       "nppes_provider_gender           False\n",
       "provider_type                   False\n",
       "line_srvc_cnt                   False\n",
       "bene_unique_cnt                 False\n",
       "bene_day_srvc_cnt               False\n",
       "average_submitted_chrg_amt      False\n",
       "average_Medicare_allowed_amt    False\n",
       "average_Medicare_payment_amt    False\n",
       "dtype: bool"
      ]
     },
     "execution_count": 20,
     "metadata": {},
     "output_type": "execute_result"
    }
   ],
   "source": [
    "pd.isnull(selected_provider_data).any() ### confirming if there are any missing values"
   ]
  },
  {
   "cell_type": "code",
   "execution_count": 21,
   "metadata": {},
   "outputs": [
    {
     "data": {
      "text/plain": [
       "Index(['LASTNAME', 'FIRSTNAME', 'MIDNAME', 'BUSNAME', 'GENERAL', 'SPECIALTY',\n",
       "       'UPIN', 'NPI', 'DOB', 'ADDRESS', 'CITY', 'STATE', 'ZIP', 'EXCLTYPE',\n",
       "       'EXCLDATE', 'REINDATE', 'WAIVERDATE', 'WVRSTATE'],\n",
       "      dtype='object')"
      ]
     },
     "execution_count": 21,
     "metadata": {},
     "output_type": "execute_result"
    }
   ],
   "source": [
    "### A look at the features in convicted dataset\n",
    "\n",
    "convicted_df.columns"
   ]
  },
  {
   "cell_type": "markdown",
   "metadata": {},
   "source": [
    "NPI = National Provider Identifier\n",
    "\n",
    "NPI is a unique identifier that has to be provided for each claim."
   ]
  },
  {
   "cell_type": "code",
   "execution_count": 22,
   "metadata": {},
   "outputs": [
    {
     "data": {
      "text/plain": [
       "NPI    False\n",
       "dtype: bool"
      ]
     },
     "execution_count": 22,
     "metadata": {},
     "output_type": "execute_result"
    }
   ],
   "source": [
    "selected_convicted_data = convicted_df[['NPI']].dropna(axis=0)\n",
    "\n",
    "pd.isnull(selected_convicted_data).any() ### confirming if there are any missing values"
   ]
  },
  {
   "cell_type": "markdown",
   "metadata": {},
   "source": [
    "### Joining the provider dataset with LEIE (convicted) labeled dataset "
   ]
  },
  {
   "cell_type": "code",
   "execution_count": 23,
   "metadata": {},
   "outputs": [
    {
     "data": {
      "text/html": [
       "<div>\n",
       "<style scoped>\n",
       "    .dataframe tbody tr th:only-of-type {\n",
       "        vertical-align: middle;\n",
       "    }\n",
       "\n",
       "    .dataframe tbody tr th {\n",
       "        vertical-align: top;\n",
       "    }\n",
       "\n",
       "    .dataframe thead th {\n",
       "        text-align: right;\n",
       "    }\n",
       "</style>\n",
       "<table border=\"1\" class=\"dataframe\">\n",
       "  <thead>\n",
       "    <tr style=\"text-align: right;\">\n",
       "      <th></th>\n",
       "      <th>npi</th>\n",
       "      <th>nppes_provider_gender</th>\n",
       "      <th>provider_type</th>\n",
       "      <th>line_srvc_cnt</th>\n",
       "      <th>bene_unique_cnt</th>\n",
       "      <th>bene_day_srvc_cnt</th>\n",
       "      <th>average_submitted_chrg_amt</th>\n",
       "      <th>average_Medicare_allowed_amt</th>\n",
       "      <th>average_Medicare_payment_amt</th>\n",
       "      <th>NPI</th>\n",
       "    </tr>\n",
       "  </thead>\n",
       "  <tbody>\n",
       "    <tr>\n",
       "      <th>0</th>\n",
       "      <td>1.003128e+09</td>\n",
       "      <td>M</td>\n",
       "      <td>Internal Medicine</td>\n",
       "      <td>617.0</td>\n",
       "      <td>499.0</td>\n",
       "      <td>617.0</td>\n",
       "      <td>332.463533</td>\n",
       "      <td>219.944716</td>\n",
       "      <td>170.918590</td>\n",
       "      <td>1003127655</td>\n",
       "    </tr>\n",
       "    <tr>\n",
       "      <th>1</th>\n",
       "      <td>1.003128e+09</td>\n",
       "      <td>M</td>\n",
       "      <td>Internal Medicine</td>\n",
       "      <td>249.0</td>\n",
       "      <td>17.0</td>\n",
       "      <td>249.0</td>\n",
       "      <td>69.899598</td>\n",
       "      <td>42.570080</td>\n",
       "      <td>33.024418</td>\n",
       "      <td>1003127655</td>\n",
       "    </tr>\n",
       "    <tr>\n",
       "      <th>2</th>\n",
       "      <td>1.003128e+09</td>\n",
       "      <td>M</td>\n",
       "      <td>Internal Medicine</td>\n",
       "      <td>1220.0</td>\n",
       "      <td>235.0</td>\n",
       "      <td>1220.0</td>\n",
       "      <td>120.000000</td>\n",
       "      <td>78.414213</td>\n",
       "      <td>61.340197</td>\n",
       "      <td>1003127655</td>\n",
       "    </tr>\n",
       "    <tr>\n",
       "      <th>3</th>\n",
       "      <td>1.003128e+09</td>\n",
       "      <td>M</td>\n",
       "      <td>Internal Medicine</td>\n",
       "      <td>754.0</td>\n",
       "      <td>434.0</td>\n",
       "      <td>754.0</td>\n",
       "      <td>172.590186</td>\n",
       "      <td>113.284987</td>\n",
       "      <td>88.611313</td>\n",
       "      <td>1003127655</td>\n",
       "    </tr>\n",
       "    <tr>\n",
       "      <th>4</th>\n",
       "      <td>1.003128e+09</td>\n",
       "      <td>M</td>\n",
       "      <td>Internal Medicine</td>\n",
       "      <td>543.0</td>\n",
       "      <td>448.0</td>\n",
       "      <td>543.0</td>\n",
       "      <td>188.176796</td>\n",
       "      <td>117.852320</td>\n",
       "      <td>91.907495</td>\n",
       "      <td>1003127655</td>\n",
       "    </tr>\n",
       "    <tr>\n",
       "      <th>...</th>\n",
       "      <td>...</td>\n",
       "      <td>...</td>\n",
       "      <td>...</td>\n",
       "      <td>...</td>\n",
       "      <td>...</td>\n",
       "      <td>...</td>\n",
       "      <td>...</td>\n",
       "      <td>...</td>\n",
       "      <td>...</td>\n",
       "      <td>...</td>\n",
       "    </tr>\n",
       "    <tr>\n",
       "      <th>1810</th>\n",
       "      <td>1.982676e+09</td>\n",
       "      <td>M</td>\n",
       "      <td>Emergency Medicine</td>\n",
       "      <td>265.0</td>\n",
       "      <td>67.0</td>\n",
       "      <td>265.0</td>\n",
       "      <td>125.000000</td>\n",
       "      <td>67.717925</td>\n",
       "      <td>43.902528</td>\n",
       "      <td>1982676136</td>\n",
       "    </tr>\n",
       "    <tr>\n",
       "      <th>1811</th>\n",
       "      <td>1.982676e+09</td>\n",
       "      <td>M</td>\n",
       "      <td>Emergency Medicine</td>\n",
       "      <td>24.0</td>\n",
       "      <td>24.0</td>\n",
       "      <td>24.0</td>\n",
       "      <td>165.000000</td>\n",
       "      <td>102.440000</td>\n",
       "      <td>34.667917</td>\n",
       "      <td>1982676136</td>\n",
       "    </tr>\n",
       "    <tr>\n",
       "      <th>1812</th>\n",
       "      <td>1.992768e+09</td>\n",
       "      <td>M</td>\n",
       "      <td>Family Practice</td>\n",
       "      <td>29.0</td>\n",
       "      <td>27.0</td>\n",
       "      <td>29.0</td>\n",
       "      <td>574.000000</td>\n",
       "      <td>65.900000</td>\n",
       "      <td>49.888276</td>\n",
       "      <td>1992768477</td>\n",
       "    </tr>\n",
       "    <tr>\n",
       "      <th>1813</th>\n",
       "      <td>1.992768e+09</td>\n",
       "      <td>M</td>\n",
       "      <td>Family Practice</td>\n",
       "      <td>32.0</td>\n",
       "      <td>32.0</td>\n",
       "      <td>32.0</td>\n",
       "      <td>757.000000</td>\n",
       "      <td>125.010000</td>\n",
       "      <td>92.168750</td>\n",
       "      <td>1992768477</td>\n",
       "    </tr>\n",
       "    <tr>\n",
       "      <th>1814</th>\n",
       "      <td>1.992768e+09</td>\n",
       "      <td>M</td>\n",
       "      <td>Family Practice</td>\n",
       "      <td>12.0</td>\n",
       "      <td>12.0</td>\n",
       "      <td>12.0</td>\n",
       "      <td>1190.000000</td>\n",
       "      <td>184.580000</td>\n",
       "      <td>128.634167</td>\n",
       "      <td>1992768477</td>\n",
       "    </tr>\n",
       "  </tbody>\n",
       "</table>\n",
       "<p>1815 rows × 10 columns</p>\n",
       "</div>"
      ],
      "text/plain": [
       "               npi nppes_provider_gender       provider_type  line_srvc_cnt  \\\n",
       "0     1.003128e+09                     M   Internal Medicine          617.0   \n",
       "1     1.003128e+09                     M   Internal Medicine          249.0   \n",
       "2     1.003128e+09                     M   Internal Medicine         1220.0   \n",
       "3     1.003128e+09                     M   Internal Medicine          754.0   \n",
       "4     1.003128e+09                     M   Internal Medicine          543.0   \n",
       "...            ...                   ...                 ...            ...   \n",
       "1810  1.982676e+09                     M  Emergency Medicine          265.0   \n",
       "1811  1.982676e+09                     M  Emergency Medicine           24.0   \n",
       "1812  1.992768e+09                     M     Family Practice           29.0   \n",
       "1813  1.992768e+09                     M     Family Practice           32.0   \n",
       "1814  1.992768e+09                     M     Family Practice           12.0   \n",
       "\n",
       "      bene_unique_cnt  bene_day_srvc_cnt  average_submitted_chrg_amt  \\\n",
       "0               499.0              617.0                  332.463533   \n",
       "1                17.0              249.0                   69.899598   \n",
       "2               235.0             1220.0                  120.000000   \n",
       "3               434.0              754.0                  172.590186   \n",
       "4               448.0              543.0                  188.176796   \n",
       "...               ...                ...                         ...   \n",
       "1810             67.0              265.0                  125.000000   \n",
       "1811             24.0               24.0                  165.000000   \n",
       "1812             27.0               29.0                  574.000000   \n",
       "1813             32.0               32.0                  757.000000   \n",
       "1814             12.0               12.0                 1190.000000   \n",
       "\n",
       "      average_Medicare_allowed_amt  average_Medicare_payment_amt         NPI  \n",
       "0                       219.944716                    170.918590  1003127655  \n",
       "1                        42.570080                     33.024418  1003127655  \n",
       "2                        78.414213                     61.340197  1003127655  \n",
       "3                       113.284987                     88.611313  1003127655  \n",
       "4                       117.852320                     91.907495  1003127655  \n",
       "...                            ...                           ...         ...  \n",
       "1810                     67.717925                     43.902528  1982676136  \n",
       "1811                    102.440000                     34.667917  1982676136  \n",
       "1812                     65.900000                     49.888276  1992768477  \n",
       "1813                    125.010000                     92.168750  1992768477  \n",
       "1814                    184.580000                    128.634167  1992768477  \n",
       "\n",
       "[1815 rows x 10 columns]"
      ]
     },
     "execution_count": 23,
     "metadata": {},
     "output_type": "execute_result"
    }
   ],
   "source": [
    "merged_dataset = pd.merge(selected_provider_data, selected_convicted_data, \n",
    "                          how='right', left_on='npi', right_on='NPI').dropna(axis=0)\n",
    "\n",
    "merged_dataset"
   ]
  },
  {
   "cell_type": "markdown",
   "metadata": {},
   "source": [
    "### Plotting different features to see if there is any kind of correlation"
   ]
  },
  {
   "cell_type": "code",
   "execution_count": 24,
   "metadata": {},
   "outputs": [
    {
     "data": {
      "text/plain": [
       "array([[<matplotlib.axes._subplots.AxesSubplot object at 0x11a3fb710>,\n",
       "        <matplotlib.axes._subplots.AxesSubplot object at 0x11ba906a0>,\n",
       "        <matplotlib.axes._subplots.AxesSubplot object at 0x11babdc50>,\n",
       "        <matplotlib.axes._subplots.AxesSubplot object at 0x11baf1240>],\n",
       "       [<matplotlib.axes._subplots.AxesSubplot object at 0x11f0867f0>,\n",
       "        <matplotlib.axes._subplots.AxesSubplot object at 0x11f0b0da0>,\n",
       "        <matplotlib.axes._subplots.AxesSubplot object at 0x11f0e3390>,\n",
       "        <matplotlib.axes._subplots.AxesSubplot object at 0x11f111978>],\n",
       "       [<matplotlib.axes._subplots.AxesSubplot object at 0x11f1119b0>,\n",
       "        <matplotlib.axes._subplots.AxesSubplot object at 0x11f1bd4e0>,\n",
       "        <matplotlib.axes._subplots.AxesSubplot object at 0x11f528a90>,\n",
       "        <matplotlib.axes._subplots.AxesSubplot object at 0x11f565080>],\n",
       "       [<matplotlib.axes._subplots.AxesSubplot object at 0x11f592630>,\n",
       "        <matplotlib.axes._subplots.AxesSubplot object at 0x11f67ebe0>,\n",
       "        <matplotlib.axes._subplots.AxesSubplot object at 0x11f7fb1d0>,\n",
       "        <matplotlib.axes._subplots.AxesSubplot object at 0x11f826780>]],\n",
       "      dtype=object)"
      ]
     },
     "execution_count": 24,
     "metadata": {},
     "output_type": "execute_result"
    },
    {
     "data": {
      "image/png": "[encoded data removed]",
      "text/plain": [
       "<Figure size 1152x864 with 16 Axes>"
      ]
     },
     "metadata": {
      "needs_background": "light"
     },
     "output_type": "display_data"
    }
   ],
   "source": [
    "%matplotlib inline\n",
    "\n",
    "from pandas.plotting import scatter_matrix\n",
    "\n",
    "attributes = [\"bene_day_srvc_cnt\", \"average_submitted_chrg_amt\",\n",
    "              \"average_Medicare_allowed_amt\", \"average_Medicare_payment_amt\"]\n",
    "\n",
    "\n",
    "scatter_matrix(merged_dataset[attributes], figsize=(16, 12))\n"
   ]
  },
  {
   "cell_type": "code",
   "execution_count": 25,
   "metadata": {},
   "outputs": [
    {
     "data": {
      "text/plain": [
       "<matplotlib.axes._subplots.AxesSubplot at 0x1203b36a0>"
      ]
     },
     "execution_count": 25,
     "metadata": {},
     "output_type": "execute_result"
    },
    {
     "data": {
      "image/png": "[encoded data removed]",
      "text/plain": [
       "<Figure size 432x288 with 1 Axes>"
      ]
     },
     "metadata": {
      "needs_background": "light"
     },
     "output_type": "display_data"
    }
   ],
   "source": [
    "merged_dataset.plot(kind='scatter', x='npi', y='line_srvc_cnt')"
   ]
  },
  {
   "cell_type": "code",
   "execution_count": 26,
   "metadata": {},
   "outputs": [
    {
     "data": {
      "text/plain": [
       "<matplotlib.axes._subplots.AxesSubplot at 0x11ff10550>"
      ]
     },
     "execution_count": 26,
     "metadata": {},
     "output_type": "execute_result"
    },
    {
     "data": {
      "image/png": "[encoded data removed]",
      "text/plain": [
       "<Figure size 432x288 with 1 Axes>"
      ]
     },
     "metadata": {
      "needs_background": "light"
     },
     "output_type": "display_data"
    }
   ],
   "source": [
    "merged_dataset.plot(kind='scatter', x='bene_unique_cnt', y='bene_day_srvc_cnt')"
   ]
  },
  {
   "cell_type": "code",
   "execution_count": 27,
   "metadata": {},
   "outputs": [
    {
     "data": {
      "text/plain": [
       "npi                              190\n",
       "nppes_provider_gender              2\n",
       "provider_type                     39\n",
       "line_srvc_cnt                    471\n",
       "bene_unique_cnt                  282\n",
       "bene_day_srvc_cnt                425\n",
       "average_submitted_chrg_amt      1026\n",
       "average_Medicare_allowed_amt    1589\n",
       "average_Medicare_payment_amt    1749\n",
       "NPI                              190\n",
       "dtype: int64"
      ]
     },
     "execution_count": 27,
     "metadata": {},
     "output_type": "execute_result"
    }
   ],
   "source": [
    "# calculating the number of unique service providers in merged_dataset\n",
    "\n",
    "merged_dataset.nunique()"
   ]
  },
  {
   "cell_type": "markdown",
   "metadata": {},
   "source": [
    "### A look at the gender ratio in different datasets"
   ]
  },
  {
   "cell_type": "code",
   "execution_count": 28,
   "metadata": {},
   "outputs": [
    {
     "name": "stdout",
     "output_type": "stream",
     "text": [
      "count     1815\n",
      "unique       2\n",
      "top          M\n",
      "freq      1724\n",
      "Name: nppes_provider_gender, dtype: object\n",
      "count     9416125\n",
      "unique          2\n",
      "top             M\n",
      "freq      6535107\n",
      "Name: nppes_provider_gender, dtype: object\n"
     ]
    }
   ],
   "source": [
    "print(merged_dataset['nppes_provider_gender'].describe())\n",
    "\n",
    "print(provider_df['nppes_provider_gender'].describe())"
   ]
  },
  {
   "cell_type": "code",
   "execution_count": 29,
   "metadata": {},
   "outputs": [
    {
     "name": "stdout",
     "output_type": "stream",
     "text": [
      "0.949862258953168\n",
      "0.6940335860027347\n"
     ]
    }
   ],
   "source": [
    "print(1724/1815) ### percentage of males in excluded/convicted dataset\n",
    "\n",
    "print(6535107/9416125) ### percentage of males in provider dataset"
   ]
  },
  {
   "cell_type": "code",
   "execution_count": 30,
   "metadata": {},
   "outputs": [
    {
     "name": "stdout",
     "output_type": "stream",
     "text": [
      "Index(['npi', 'nppes_provider_gender', 'provider_type', 'line_srvc_cnt',\n",
      "       'bene_unique_cnt', 'bene_day_srvc_cnt', 'average_submitted_chrg_amt',\n",
      "       'average_Medicare_allowed_amt', 'average_Medicare_payment_amt', 'NPI'],\n",
      "      dtype='object')\n"
     ]
    }
   ],
   "source": [
    "### a peek at the merged dataset\n",
    "\n",
    "print(merged_dataset.columns)"
   ]
  },
  {
   "cell_type": "code",
   "execution_count": 31,
   "metadata": {},
   "outputs": [
    {
     "data": {
      "text/plain": [
       "1"
      ]
     },
     "execution_count": 31,
     "metadata": {},
     "output_type": "execute_result"
    }
   ],
   "source": [
    "### to see if there are any differences in the NPI values in merged dataset\n",
    "\n",
    "comparison = merged_dataset['npi'] == merged_dataset['NPI']\n",
    "\n",
    "comparison.nunique()"
   ]
  },
  {
   "cell_type": "markdown",
   "metadata": {},
   "source": [
    "Since they are the same, we can drop one of these two columns. "
   ]
  },
  {
   "cell_type": "code",
   "execution_count": 32,
   "metadata": {},
   "outputs": [
    {
     "data": {
      "text/html": [
       "<div>\n",
       "<style scoped>\n",
       "    .dataframe tbody tr th:only-of-type {\n",
       "        vertical-align: middle;\n",
       "    }\n",
       "\n",
       "    .dataframe tbody tr th {\n",
       "        vertical-align: top;\n",
       "    }\n",
       "\n",
       "    .dataframe thead th {\n",
       "        text-align: right;\n",
       "    }\n",
       "</style>\n",
       "<table border=\"1\" class=\"dataframe\">\n",
       "  <thead>\n",
       "    <tr style=\"text-align: right;\">\n",
       "      <th></th>\n",
       "      <th>npi</th>\n",
       "      <th>nppes_provider_gender</th>\n",
       "      <th>provider_type</th>\n",
       "      <th>line_srvc_cnt</th>\n",
       "      <th>bene_unique_cnt</th>\n",
       "      <th>bene_day_srvc_cnt</th>\n",
       "      <th>average_submitted_chrg_amt</th>\n",
       "      <th>average_Medicare_allowed_amt</th>\n",
       "      <th>average_Medicare_payment_amt</th>\n",
       "    </tr>\n",
       "  </thead>\n",
       "  <tbody>\n",
       "    <tr>\n",
       "      <th>0</th>\n",
       "      <td>1.003128e+09</td>\n",
       "      <td>M</td>\n",
       "      <td>Internal Medicine</td>\n",
       "      <td>617.0</td>\n",
       "      <td>499.0</td>\n",
       "      <td>617.0</td>\n",
       "      <td>332.463533</td>\n",
       "      <td>219.944716</td>\n",
       "      <td>170.918590</td>\n",
       "    </tr>\n",
       "    <tr>\n",
       "      <th>1</th>\n",
       "      <td>1.003128e+09</td>\n",
       "      <td>M</td>\n",
       "      <td>Internal Medicine</td>\n",
       "      <td>249.0</td>\n",
       "      <td>17.0</td>\n",
       "      <td>249.0</td>\n",
       "      <td>69.899598</td>\n",
       "      <td>42.570080</td>\n",
       "      <td>33.024418</td>\n",
       "    </tr>\n",
       "    <tr>\n",
       "      <th>2</th>\n",
       "      <td>1.003128e+09</td>\n",
       "      <td>M</td>\n",
       "      <td>Internal Medicine</td>\n",
       "      <td>1220.0</td>\n",
       "      <td>235.0</td>\n",
       "      <td>1220.0</td>\n",
       "      <td>120.000000</td>\n",
       "      <td>78.414213</td>\n",
       "      <td>61.340197</td>\n",
       "    </tr>\n",
       "    <tr>\n",
       "      <th>3</th>\n",
       "      <td>1.003128e+09</td>\n",
       "      <td>M</td>\n",
       "      <td>Internal Medicine</td>\n",
       "      <td>754.0</td>\n",
       "      <td>434.0</td>\n",
       "      <td>754.0</td>\n",
       "      <td>172.590186</td>\n",
       "      <td>113.284987</td>\n",
       "      <td>88.611313</td>\n",
       "    </tr>\n",
       "    <tr>\n",
       "      <th>4</th>\n",
       "      <td>1.003128e+09</td>\n",
       "      <td>M</td>\n",
       "      <td>Internal Medicine</td>\n",
       "      <td>543.0</td>\n",
       "      <td>448.0</td>\n",
       "      <td>543.0</td>\n",
       "      <td>188.176796</td>\n",
       "      <td>117.852320</td>\n",
       "      <td>91.907495</td>\n",
       "    </tr>\n",
       "    <tr>\n",
       "      <th>5</th>\n",
       "      <td>1.003128e+09</td>\n",
       "      <td>M</td>\n",
       "      <td>Internal Medicine</td>\n",
       "      <td>414.0</td>\n",
       "      <td>316.0</td>\n",
       "      <td>414.0</td>\n",
       "      <td>273.828502</td>\n",
       "      <td>181.887440</td>\n",
       "      <td>139.755266</td>\n",
       "    </tr>\n",
       "    <tr>\n",
       "      <th>6</th>\n",
       "      <td>1.003128e+09</td>\n",
       "      <td>M</td>\n",
       "      <td>Internal Medicine</td>\n",
       "      <td>658.0</td>\n",
       "      <td>218.0</td>\n",
       "      <td>658.0</td>\n",
       "      <td>141.793313</td>\n",
       "      <td>100.259909</td>\n",
       "      <td>77.022340</td>\n",
       "    </tr>\n",
       "    <tr>\n",
       "      <th>7</th>\n",
       "      <td>1.003128e+09</td>\n",
       "      <td>M</td>\n",
       "      <td>Internal Medicine</td>\n",
       "      <td>52.0</td>\n",
       "      <td>51.0</td>\n",
       "      <td>52.0</td>\n",
       "      <td>90.000000</td>\n",
       "      <td>60.180000</td>\n",
       "      <td>47.180000</td>\n",
       "    </tr>\n",
       "    <tr>\n",
       "      <th>8</th>\n",
       "      <td>1.003811e+09</td>\n",
       "      <td>M</td>\n",
       "      <td>Pain Management</td>\n",
       "      <td>90.0</td>\n",
       "      <td>32.0</td>\n",
       "      <td>90.0</td>\n",
       "      <td>105.000000</td>\n",
       "      <td>84.290000</td>\n",
       "      <td>53.103444</td>\n",
       "    </tr>\n",
       "    <tr>\n",
       "      <th>9</th>\n",
       "      <td>1.003811e+09</td>\n",
       "      <td>M</td>\n",
       "      <td>Pain Management</td>\n",
       "      <td>126.0</td>\n",
       "      <td>46.0</td>\n",
       "      <td>126.0</td>\n",
       "      <td>130.000000</td>\n",
       "      <td>123.460000</td>\n",
       "      <td>83.113968</td>\n",
       "    </tr>\n",
       "  </tbody>\n",
       "</table>\n",
       "</div>"
      ],
      "text/plain": [
       "            npi nppes_provider_gender      provider_type  line_srvc_cnt  \\\n",
       "0  1.003128e+09                     M  Internal Medicine          617.0   \n",
       "1  1.003128e+09                     M  Internal Medicine          249.0   \n",
       "2  1.003128e+09                     M  Internal Medicine         1220.0   \n",
       "3  1.003128e+09                     M  Internal Medicine          754.0   \n",
       "4  1.003128e+09                     M  Internal Medicine          543.0   \n",
       "5  1.003128e+09                     M  Internal Medicine          414.0   \n",
       "6  1.003128e+09                     M  Internal Medicine          658.0   \n",
       "7  1.003128e+09                     M  Internal Medicine           52.0   \n",
       "8  1.003811e+09                     M    Pain Management           90.0   \n",
       "9  1.003811e+09                     M    Pain Management          126.0   \n",
       "\n",
       "   bene_unique_cnt  bene_day_srvc_cnt  average_submitted_chrg_amt  \\\n",
       "0            499.0              617.0                  332.463533   \n",
       "1             17.0              249.0                   69.899598   \n",
       "2            235.0             1220.0                  120.000000   \n",
       "3            434.0              754.0                  172.590186   \n",
       "4            448.0              543.0                  188.176796   \n",
       "5            316.0              414.0                  273.828502   \n",
       "6            218.0              658.0                  141.793313   \n",
       "7             51.0               52.0                   90.000000   \n",
       "8             32.0               90.0                  105.000000   \n",
       "9             46.0              126.0                  130.000000   \n",
       "\n",
       "   average_Medicare_allowed_amt  average_Medicare_payment_amt  \n",
       "0                    219.944716                    170.918590  \n",
       "1                     42.570080                     33.024418  \n",
       "2                     78.414213                     61.340197  \n",
       "3                    113.284987                     88.611313  \n",
       "4                    117.852320                     91.907495  \n",
       "5                    181.887440                    139.755266  \n",
       "6                    100.259909                     77.022340  \n",
       "7                     60.180000                     47.180000  \n",
       "8                     84.290000                     53.103444  \n",
       "9                    123.460000                     83.113968  "
      ]
     },
     "execution_count": 32,
     "metadata": {},
     "output_type": "execute_result"
    }
   ],
   "source": [
    "merged_dataset = merged_dataset.drop('NPI', axis=1)\n",
    "merged_dataset.head(10)"
   ]
  },
  {
   "cell_type": "code",
   "execution_count": 33,
   "metadata": {},
   "outputs": [
    {
     "data": {
      "text/plain": [
       "(1815, 9)"
      ]
     },
     "execution_count": 33,
     "metadata": {},
     "output_type": "execute_result"
    }
   ],
   "source": [
    "merged_dataset.shape"
   ]
  },
  {
   "cell_type": "markdown",
   "metadata": {},
   "source": [
    "### Fraud and non-fraud labels\n",
    "\n",
    "One extra feature needs to be created to label the npi as numerical attributes of fraudulent and non-fraudulent. \n",
    "\n",
    "### Adding a feature for fraud labeling"
   ]
  },
  {
   "cell_type": "code",
   "execution_count": 34,
   "metadata": {},
   "outputs": [],
   "source": [
    "merged_dataset['label'] = 1"
   ]
  },
  {
   "cell_type": "markdown",
   "metadata": {},
   "source": [
    "### Fraud and non-fraud labels added to provider dataset"
   ]
  },
  {
   "cell_type": "code",
   "execution_count": 35,
   "metadata": {},
   "outputs": [],
   "source": [
    "labeled_final = pd.merge(selected_provider_data, merged_dataset[['npi', 'label']], \n",
    "                        how='left', on='npi').fillna(0)\n"
   ]
  },
  {
   "cell_type": "code",
   "execution_count": 36,
   "metadata": {},
   "outputs": [
    {
     "data": {
      "text/html": [
       "<div>\n",
       "<style scoped>\n",
       "    .dataframe tbody tr th:only-of-type {\n",
       "        vertical-align: middle;\n",
       "    }\n",
       "\n",
       "    .dataframe tbody tr th {\n",
       "        vertical-align: top;\n",
       "    }\n",
       "\n",
       "    .dataframe thead th {\n",
       "        text-align: right;\n",
       "    }\n",
       "</style>\n",
       "<table border=\"1\" class=\"dataframe\">\n",
       "  <thead>\n",
       "    <tr style=\"text-align: right;\">\n",
       "      <th></th>\n",
       "      <th>npi</th>\n",
       "      <th>nppes_provider_gender</th>\n",
       "      <th>provider_type</th>\n",
       "      <th>line_srvc_cnt</th>\n",
       "      <th>bene_unique_cnt</th>\n",
       "      <th>bene_day_srvc_cnt</th>\n",
       "      <th>average_submitted_chrg_amt</th>\n",
       "      <th>average_Medicare_allowed_amt</th>\n",
       "      <th>average_Medicare_payment_amt</th>\n",
       "      <th>label</th>\n",
       "    </tr>\n",
       "  </thead>\n",
       "  <tbody>\n",
       "    <tr>\n",
       "      <th>0</th>\n",
       "      <td>1003000126</td>\n",
       "      <td>M</td>\n",
       "      <td>Internal Medicine</td>\n",
       "      <td>100.0</td>\n",
       "      <td>96.0</td>\n",
       "      <td>100.0</td>\n",
       "      <td>325.780000</td>\n",
       "      <td>73.398800</td>\n",
       "      <td>56.827200</td>\n",
       "      <td>0.0</td>\n",
       "    </tr>\n",
       "    <tr>\n",
       "      <th>1</th>\n",
       "      <td>1003000126</td>\n",
       "      <td>M</td>\n",
       "      <td>Internal Medicine</td>\n",
       "      <td>26.0</td>\n",
       "      <td>25.0</td>\n",
       "      <td>26.0</td>\n",
       "      <td>449.000000</td>\n",
       "      <td>100.080000</td>\n",
       "      <td>78.460000</td>\n",
       "      <td>0.0</td>\n",
       "    </tr>\n",
       "    <tr>\n",
       "      <th>2</th>\n",
       "      <td>1003000126</td>\n",
       "      <td>M</td>\n",
       "      <td>Internal Medicine</td>\n",
       "      <td>52.0</td>\n",
       "      <td>51.0</td>\n",
       "      <td>52.0</td>\n",
       "      <td>614.000000</td>\n",
       "      <td>136.380000</td>\n",
       "      <td>102.807692</td>\n",
       "      <td>0.0</td>\n",
       "    </tr>\n",
       "    <tr>\n",
       "      <th>3</th>\n",
       "      <td>1003000126</td>\n",
       "      <td>M</td>\n",
       "      <td>Internal Medicine</td>\n",
       "      <td>59.0</td>\n",
       "      <td>59.0</td>\n",
       "      <td>59.0</td>\n",
       "      <td>755.932203</td>\n",
       "      <td>190.363729</td>\n",
       "      <td>141.293559</td>\n",
       "      <td>0.0</td>\n",
       "    </tr>\n",
       "    <tr>\n",
       "      <th>4</th>\n",
       "      <td>1003000126</td>\n",
       "      <td>M</td>\n",
       "      <td>Internal Medicine</td>\n",
       "      <td>16.0</td>\n",
       "      <td>16.0</td>\n",
       "      <td>16.0</td>\n",
       "      <td>462.812500</td>\n",
       "      <td>101.680000</td>\n",
       "      <td>79.710000</td>\n",
       "      <td>0.0</td>\n",
       "    </tr>\n",
       "  </tbody>\n",
       "</table>\n",
       "</div>"
      ],
      "text/plain": [
       "          npi nppes_provider_gender      provider_type  line_srvc_cnt  \\\n",
       "0  1003000126                     M  Internal Medicine          100.0   \n",
       "1  1003000126                     M  Internal Medicine           26.0   \n",
       "2  1003000126                     M  Internal Medicine           52.0   \n",
       "3  1003000126                     M  Internal Medicine           59.0   \n",
       "4  1003000126                     M  Internal Medicine           16.0   \n",
       "\n",
       "   bene_unique_cnt  bene_day_srvc_cnt  average_submitted_chrg_amt  \\\n",
       "0             96.0              100.0                  325.780000   \n",
       "1             25.0               26.0                  449.000000   \n",
       "2             51.0               52.0                  614.000000   \n",
       "3             59.0               59.0                  755.932203   \n",
       "4             16.0               16.0                  462.812500   \n",
       "\n",
       "   average_Medicare_allowed_amt  average_Medicare_payment_amt  label  \n",
       "0                     73.398800                     56.827200    0.0  \n",
       "1                    100.080000                     78.460000    0.0  \n",
       "2                    136.380000                    102.807692    0.0  \n",
       "3                    190.363729                    141.293559    0.0  \n",
       "4                    101.680000                     79.710000    0.0  "
      ]
     },
     "execution_count": 36,
     "metadata": {},
     "output_type": "execute_result"
    }
   ],
   "source": [
    "labeled_final.head()"
   ]
  },
  {
   "cell_type": "code",
   "execution_count": 37,
   "metadata": {},
   "outputs": [
    {
     "data": {
      "text/plain": [
       "(9449787, 10)"
      ]
     },
     "execution_count": 37,
     "metadata": {},
     "output_type": "execute_result"
    }
   ],
   "source": [
    "labeled_final.shape"
   ]
  },
  {
   "cell_type": "code",
   "execution_count": 38,
   "metadata": {},
   "outputs": [
    {
     "data": {
      "text/plain": [
       "35469.0"
      ]
     },
     "execution_count": 38,
     "metadata": {},
     "output_type": "execute_result"
    }
   ],
   "source": [
    "labeled_final['label'].sum()"
   ]
  },
  {
   "cell_type": "code",
   "execution_count": 39,
   "metadata": {},
   "outputs": [
    {
     "data": {
      "text/plain": [
       "npi                               int64\n",
       "nppes_provider_gender            object\n",
       "provider_type                    object\n",
       "line_srvc_cnt                   float64\n",
       "bene_unique_cnt                 float64\n",
       "bene_day_srvc_cnt               float64\n",
       "average_submitted_chrg_amt      float64\n",
       "average_Medicare_allowed_amt    float64\n",
       "average_Medicare_payment_amt    float64\n",
       "label                           float64\n",
       "dtype: object"
      ]
     },
     "execution_count": 39,
     "metadata": {},
     "output_type": "execute_result"
    }
   ],
   "source": [
    "labeled_final.dtypes"
   ]
  },
  {
   "cell_type": "markdown",
   "metadata": {},
   "source": [
    "### Splitting the data into train and test datasets"
   ]
  },
  {
   "cell_type": "code",
   "execution_count": 40,
   "metadata": {},
   "outputs": [],
   "source": [
    "X_train, X_test, y_train, y_test = train_test_split(labeled_final[['npi', 'nppes_provider_gender', 'provider_type', \n",
    "                                   'line_srvc_cnt', 'bene_unique_cnt', 'bene_day_srvc_cnt', \n",
    "                                   'average_submitted_chrg_amt','average_Medicare_allowed_amt',\n",
    "                                   'average_Medicare_payment_amt']], labeled_final['label'],\n",
    "                                    random_state=42)\n",
    " \n",
    "    \n"
   ]
  },
  {
   "cell_type": "code",
   "execution_count": 41,
   "metadata": {},
   "outputs": [
    {
     "name": "stdout",
     "output_type": "stream",
     "text": [
      "X_train shape: (7087340, 9)\n",
      "y_train shape: (7087340,)\n"
     ]
    }
   ],
   "source": [
    "print(\"X_train shape: {}\".format(X_train.shape))\n",
    "print(\"y_train shape: {}\".format(y_train.shape))"
   ]
  },
  {
   "cell_type": "code",
   "execution_count": 42,
   "metadata": {},
   "outputs": [
    {
     "name": "stdout",
     "output_type": "stream",
     "text": [
      "X_test shape: (2362447, 9)\n",
      "y_test shape: (2362447,)\n"
     ]
    }
   ],
   "source": [
    "print(\"X_test shape: {}\".format(X_test.shape))\n",
    "print(\"y_test shape: {}\".format(y_test.shape))"
   ]
  },
  {
   "cell_type": "markdown",
   "metadata": {},
   "source": [
    "### Removing npi feature as it is not required in training the model"
   ]
  },
  {
   "cell_type": "code",
   "execution_count": 43,
   "metadata": {},
   "outputs": [],
   "source": [
    "X_train = X_train.iloc[:, 1:]"
   ]
  },
  {
   "cell_type": "code",
   "execution_count": 44,
   "metadata": {},
   "outputs": [
    {
     "data": {
      "text/html": [
       "<div>\n",
       "<style scoped>\n",
       "    .dataframe tbody tr th:only-of-type {\n",
       "        vertical-align: middle;\n",
       "    }\n",
       "\n",
       "    .dataframe tbody tr th {\n",
       "        vertical-align: top;\n",
       "    }\n",
       "\n",
       "    .dataframe thead th {\n",
       "        text-align: right;\n",
       "    }\n",
       "</style>\n",
       "<table border=\"1\" class=\"dataframe\">\n",
       "  <thead>\n",
       "    <tr style=\"text-align: right;\">\n",
       "      <th></th>\n",
       "      <th>nppes_provider_gender</th>\n",
       "      <th>provider_type</th>\n",
       "      <th>line_srvc_cnt</th>\n",
       "      <th>bene_unique_cnt</th>\n",
       "      <th>bene_day_srvc_cnt</th>\n",
       "      <th>average_submitted_chrg_amt</th>\n",
       "      <th>average_Medicare_allowed_amt</th>\n",
       "      <th>average_Medicare_payment_amt</th>\n",
       "    </tr>\n",
       "  </thead>\n",
       "  <tbody>\n",
       "    <tr>\n",
       "      <th>6922930</th>\n",
       "      <td>M</td>\n",
       "      <td>Gastroenterology</td>\n",
       "      <td>111.0</td>\n",
       "      <td>111.0</td>\n",
       "      <td>111.0</td>\n",
       "      <td>1510.955676</td>\n",
       "      <td>251.515405</td>\n",
       "      <td>189.624685</td>\n",
       "    </tr>\n",
       "    <tr>\n",
       "      <th>2347898</th>\n",
       "      <td>M</td>\n",
       "      <td>Internal Medicine</td>\n",
       "      <td>70.0</td>\n",
       "      <td>69.0</td>\n",
       "      <td>70.0</td>\n",
       "      <td>1433.380000</td>\n",
       "      <td>206.650000</td>\n",
       "      <td>158.753571</td>\n",
       "    </tr>\n",
       "    <tr>\n",
       "      <th>3767506</th>\n",
       "      <td>F</td>\n",
       "      <td>Family Practice</td>\n",
       "      <td>42.0</td>\n",
       "      <td>42.0</td>\n",
       "      <td>42.0</td>\n",
       "      <td>175.000000</td>\n",
       "      <td>114.290000</td>\n",
       "      <td>112.000000</td>\n",
       "    </tr>\n",
       "    <tr>\n",
       "      <th>2451995</th>\n",
       "      <td>F</td>\n",
       "      <td>Nurse Practitioner</td>\n",
       "      <td>257.0</td>\n",
       "      <td>41.0</td>\n",
       "      <td>257.0</td>\n",
       "      <td>120.000000</td>\n",
       "      <td>94.640000</td>\n",
       "      <td>74.200000</td>\n",
       "    </tr>\n",
       "    <tr>\n",
       "      <th>21627</th>\n",
       "      <td>F</td>\n",
       "      <td>Family Practice</td>\n",
       "      <td>136.0</td>\n",
       "      <td>77.0</td>\n",
       "      <td>136.0</td>\n",
       "      <td>135.000000</td>\n",
       "      <td>78.818235</td>\n",
       "      <td>49.446397</td>\n",
       "    </tr>\n",
       "  </tbody>\n",
       "</table>\n",
       "</div>"
      ],
      "text/plain": [
       "        nppes_provider_gender       provider_type  line_srvc_cnt  \\\n",
       "6922930                     M    Gastroenterology          111.0   \n",
       "2347898                     M   Internal Medicine           70.0   \n",
       "3767506                     F     Family Practice           42.0   \n",
       "2451995                     F  Nurse Practitioner          257.0   \n",
       "21627                       F     Family Practice          136.0   \n",
       "\n",
       "         bene_unique_cnt  bene_day_srvc_cnt  average_submitted_chrg_amt  \\\n",
       "6922930            111.0              111.0                 1510.955676   \n",
       "2347898             69.0               70.0                 1433.380000   \n",
       "3767506             42.0               42.0                  175.000000   \n",
       "2451995             41.0              257.0                  120.000000   \n",
       "21627               77.0              136.0                  135.000000   \n",
       "\n",
       "         average_Medicare_allowed_amt  average_Medicare_payment_amt  \n",
       "6922930                    251.515405                    189.624685  \n",
       "2347898                    206.650000                    158.753571  \n",
       "3767506                    114.290000                    112.000000  \n",
       "2451995                     94.640000                     74.200000  \n",
       "21627                       78.818235                     49.446397  "
      ]
     },
     "execution_count": 44,
     "metadata": {},
     "output_type": "execute_result"
    }
   ],
   "source": [
    "X_train.head()"
   ]
  },
  {
   "cell_type": "markdown",
   "metadata": {},
   "source": [
    "### Selecting categorical features"
   ]
  },
  {
   "cell_type": "code",
   "execution_count": 45,
   "metadata": {},
   "outputs": [
    {
     "data": {
      "text/html": [
       "<div>\n",
       "<style scoped>\n",
       "    .dataframe tbody tr th:only-of-type {\n",
       "        vertical-align: middle;\n",
       "    }\n",
       "\n",
       "    .dataframe tbody tr th {\n",
       "        vertical-align: top;\n",
       "    }\n",
       "\n",
       "    .dataframe thead th {\n",
       "        text-align: right;\n",
       "    }\n",
       "</style>\n",
       "<table border=\"1\" class=\"dataframe\">\n",
       "  <thead>\n",
       "    <tr style=\"text-align: right;\">\n",
       "      <th></th>\n",
       "      <th>nppes_provider_gender</th>\n",
       "      <th>provider_type</th>\n",
       "    </tr>\n",
       "  </thead>\n",
       "  <tbody>\n",
       "    <tr>\n",
       "      <th>0</th>\n",
       "      <td>M</td>\n",
       "      <td>Internal Medicine</td>\n",
       "    </tr>\n",
       "    <tr>\n",
       "      <th>1</th>\n",
       "      <td>M</td>\n",
       "      <td>Internal Medicine</td>\n",
       "    </tr>\n",
       "    <tr>\n",
       "      <th>2</th>\n",
       "      <td>M</td>\n",
       "      <td>Internal Medicine</td>\n",
       "    </tr>\n",
       "    <tr>\n",
       "      <th>3</th>\n",
       "      <td>M</td>\n",
       "      <td>Internal Medicine</td>\n",
       "    </tr>\n",
       "    <tr>\n",
       "      <th>4</th>\n",
       "      <td>M</td>\n",
       "      <td>Internal Medicine</td>\n",
       "    </tr>\n",
       "  </tbody>\n",
       "</table>\n",
       "</div>"
      ],
      "text/plain": [
       "  nppes_provider_gender      provider_type\n",
       "0                     M  Internal Medicine\n",
       "1                     M  Internal Medicine\n",
       "2                     M  Internal Medicine\n",
       "3                     M  Internal Medicine\n",
       "4                     M  Internal Medicine"
      ]
     },
     "execution_count": 45,
     "metadata": {},
     "output_type": "execute_result"
    }
   ],
   "source": [
    "cat_features = labeled_final.select_dtypes(include=[object])\n",
    "\n",
    "cat_features.head()"
   ]
  },
  {
   "cell_type": "code",
   "execution_count": 46,
   "metadata": {},
   "outputs": [
    {
     "data": {
      "text/plain": [
       "88"
      ]
     },
     "execution_count": 46,
     "metadata": {},
     "output_type": "execute_result"
    }
   ],
   "source": [
    "### To see how many unique provider types are there\n",
    "\n",
    "X_train['provider_type'].nunique()"
   ]
  },
  {
   "cell_type": "markdown",
   "metadata": {},
   "source": [
    "### ColumnTransformer Pipeline is applied to convert categorical features into numerical ones\n",
    "\n",
    "ColumnTransformer to process selective features only."
   ]
  },
  {
   "cell_type": "code",
   "execution_count": 47,
   "metadata": {},
   "outputs": [],
   "source": [
    "# use when different features need different preprocessing\n",
    "from sklearn.compose import make_column_transformer\n",
    "\n",
    "# column_transformer pipeline to apply OneHotEncoder on cat features only\n",
    "column_trans = make_column_transformer(\n",
    "    (OneHotEncoder(sparse=False), ['nppes_provider_gender', 'provider_type']),\n",
    "    remainder='passthrough')\n",
    "\n",
    "X_train = column_trans.fit_transform(X_train)"
   ]
  },
  {
   "cell_type": "code",
   "execution_count": 48,
   "metadata": {},
   "outputs": [
    {
     "data": {
      "text/plain": [
       "(7087340, 96)"
      ]
     },
     "execution_count": 48,
     "metadata": {},
     "output_type": "execute_result"
    }
   ],
   "source": [
    "X_train.shape"
   ]
  },
  {
   "cell_type": "code",
   "execution_count": 49,
   "metadata": {},
   "outputs": [
    {
     "data": {
      "text/plain": [
       "numpy.ndarray"
      ]
     },
     "execution_count": 49,
     "metadata": {},
     "output_type": "execute_result"
    }
   ],
   "source": [
    "type(X_train)"
   ]
  },
  {
   "cell_type": "markdown",
   "metadata": {},
   "source": [
    "### Converting sparse matrix/ndarray back to DataFrame"
   ]
  },
  {
   "cell_type": "code",
   "execution_count": 50,
   "metadata": {},
   "outputs": [
    {
     "name": "stdout",
     "output_type": "stream",
     "text": [
      "(7087340, 96)\n"
     ]
    }
   ],
   "source": [
    "X_train = pd.DataFrame(X_train)\n",
    "\n",
    "print(X_train.shape)"
   ]
  },
  {
   "cell_type": "markdown",
   "metadata": {},
   "source": [
    "Finally, the dataset is ready for the model. Hurray...\n",
    "\n",
    "### Creating a pipeline for future applications"
   ]
  },
  {
   "cell_type": "code",
   "execution_count": 70,
   "metadata": {},
   "outputs": [],
   "source": [
    "from sklearn.linear_model import LogisticRegression\n",
    "from sklearn.pipeline import make_pipeline\n",
    "\n",
    "log_reg = LogisticRegression()\n",
    "\n",
    "pipe = (column_trans, log_reg)"
   ]
  },
  {
   "cell_type": "code",
   "execution_count": 76,
   "metadata": {},
   "outputs": [],
   "source": [
    "# cross-validate the entire process\n",
    "# thus, preprocessing occurs within each fold of cross-validation\n",
    "\n",
    "from sklearn.linear_model import LogisticRegressionCV\n",
    "\n",
    "lr_cv = LogisticRegressionCV(cv=5, random_state=42)\n",
    "lr_cv_fitting = lr_cv.fit(X_train, y_train)"
   ]
  },
  {
   "cell_type": "markdown",
   "metadata": {},
   "source": [
    "### Model persistence using joblib"
   ]
  },
  {
   "cell_type": "code",
   "execution_count": 79,
   "metadata": {},
   "outputs": [
    {
     "data": {
      "text/plain": [
       "['lr_cv_fitting.pkl']"
      ]
     },
     "execution_count": 79,
     "metadata": {},
     "output_type": "execute_result"
    }
   ],
   "source": [
    "import joblib\n",
    "\n",
    "joblib.dump(lr_cv_fitting, \"lr_cv_fitting.pkl\")\n",
    "\n",
    "### to load\n",
    "# my_model_loaded = joblib.load(\"lr_cv_fitting.pkl\")"
   ]
  },
  {
   "cell_type": "markdown",
   "metadata": {},
   "source": [
    "### Testing the Model using Test Data"
   ]
  },
  {
   "cell_type": "code",
   "execution_count": 72,
   "metadata": {},
   "outputs": [],
   "source": [
    "X_test = X_test.iloc[:, 1:] ### dropping npi feature"
   ]
  },
  {
   "cell_type": "code",
   "execution_count": 73,
   "metadata": {},
   "outputs": [],
   "source": [
    "### column_transformer pipeline applied on test data\n",
    "X_test = column_trans.transform(X_test)"
   ]
  },
  {
   "cell_type": "code",
   "execution_count": 74,
   "metadata": {},
   "outputs": [],
   "source": [
    "X_test = pd.DataFrame(X_test)"
   ]
  },
  {
   "cell_type": "code",
   "execution_count": 80,
   "metadata": {},
   "outputs": [
    {
     "data": {
      "text/plain": [
       "(2362447, 96)"
      ]
     },
     "execution_count": 80,
     "metadata": {},
     "output_type": "execute_result"
    }
   ],
   "source": [
    "X_test.shape"
   ]
  },
  {
   "cell_type": "markdown",
   "metadata": {},
   "source": [
    "To make sure that X_test has same number of features after OHE as X_train, an inner join is performed.\n",
    "\n",
    "X_train_final, X_test_final = X_train.align(X_test, join='inner', axis=1)  # inner join"
   ]
  },
  {
   "cell_type": "code",
   "execution_count": 81,
   "metadata": {},
   "outputs": [],
   "source": [
    "### applying the model to predict on test data\n",
    "\n",
    "y_predicted = lr_cv_fitting.predict(X_test)"
   ]
  },
  {
   "cell_type": "markdown",
   "metadata": {},
   "source": [
    "### Evaluating the model using multiple metrics"
   ]
  },
  {
   "cell_type": "markdown",
   "metadata": {},
   "source": [
    "### Accuracy score"
   ]
  },
  {
   "cell_type": "code",
   "execution_count": 82,
   "metadata": {},
   "outputs": [
    {
     "name": "stdout",
     "output_type": "stream",
     "text": [
      "0.99625515408388\n"
     ]
    }
   ],
   "source": [
    "from sklearn import metrics\n",
    "print(metrics.accuracy_score(y_test, y_predicted))"
   ]
  },
  {
   "cell_type": "markdown",
   "metadata": {},
   "source": [
    "### Classification report"
   ]
  },
  {
   "cell_type": "code",
   "execution_count": 83,
   "metadata": {},
   "outputs": [
    {
     "name": "stdout",
     "output_type": "stream",
     "text": [
      "              precision    recall  f1-score   support\n",
      "\n",
      "         0.0       1.00      1.00      1.00   2353603\n",
      "         1.0       0.00      0.00      0.00      8844\n",
      "\n",
      "    accuracy                           1.00   2362447\n",
      "   macro avg       0.50      0.50      0.50   2362447\n",
      "weighted avg       0.99      1.00      0.99   2362447\n",
      "\n"
     ]
    }
   ],
   "source": [
    "from sklearn.metrics import classification_report\n",
    "\n",
    "print(classification_report(y_test, y_predicted))"
   ]
  },
  {
   "cell_type": "markdown",
   "metadata": {},
   "source": [
    "### Probability of predicting y"
   ]
  },
  {
   "cell_type": "code",
   "execution_count": 84,
   "metadata": {},
   "outputs": [],
   "source": [
    "y_predicted_prob = lr_cv_fitting.predict_proba(X_test)[:, 1]"
   ]
  },
  {
   "cell_type": "markdown",
   "metadata": {},
   "source": [
    "### ROC Curve"
   ]
  },
  {
   "cell_type": "code",
   "execution_count": 85,
   "metadata": {},
   "outputs": [],
   "source": [
    "from sklearn.metrics import roc_curve, auc\n",
    "\n",
    "fpr, tpr, thresholds = roc_curve(y_test, y_predicted_prob)"
   ]
  },
  {
   "cell_type": "markdown",
   "metadata": {},
   "source": [
    "### Plotting ROC Curve"
   ]
  },
  {
   "cell_type": "code",
   "execution_count": 92,
   "metadata": {},
   "outputs": [
    {
     "name": "stderr",
     "output_type": "stream",
     "text": [
      "No handles with labels found to put in legend.\n"
     ]
    },
    {
     "data": {
      "image/png": "[encoded data removed]",
      "text/plain": [
       "<Figure size 432x288 with 1 Axes>"
      ]
     },
     "metadata": {
      "needs_background": "light"
     },
     "output_type": "display_data"
    }
   ],
   "source": [
    "plt.figure()\n",
    "lw_1 = 2\n",
    "plt.plot(fpr, tpr)\n",
    "#         lw=lw_1, label='ROC curve (area = %0.2f)' % roc_auc)\n",
    "plt.plot([0, 1], [0, 1], color='navy', lw=lw_1, linestyle='--')\n",
    "plt.xlim([0.0, 1.0])\n",
    "plt.ylim([0.0, 1.05])\n",
    "plt.xlabel('False Positive Rate')\n",
    "plt.ylabel('True Positive Rate')\n",
    "plt.title('Receiver operating characteristic example')\n",
    "plt.legend(loc=\"lower right\")\n",
    "plt.show()"
   ]
  },
  {
   "cell_type": "markdown",
   "metadata": {},
   "source": [
    "### AUC"
   ]
  },
  {
   "cell_type": "code",
   "execution_count": 93,
   "metadata": {},
   "outputs": [
    {
     "name": "stdout",
     "output_type": "stream",
     "text": [
      "0.7252385291187126\n"
     ]
    }
   ],
   "source": [
    "from sklearn.metrics import roc_auc_score\n",
    "\n",
    "print(roc_auc_score(y_test, y_predicted_prob))"
   ]
  },
  {
   "cell_type": "code",
   "execution_count": 7,
   "metadata": {},
   "outputs": [],
   "source": [
    "### to load saved model\n",
    "lr_cv_loaded = load(\"lr_cv_fitting.pkl\")"
   ]
  },
  {
   "cell_type": "code",
   "execution_count": 8,
   "metadata": {},
   "outputs": [
    {
     "data": {
      "text/plain": [
       "LogisticRegressionCV(Cs=10, class_weight=None, cv=5, dual=False,\n",
       "                     fit_intercept=True, intercept_scaling=1.0, l1_ratios=None,\n",
       "                     max_iter=100, multi_class='warn', n_jobs=None,\n",
       "                     penalty='l2', random_state=42, refit=True, scoring=None,\n",
       "                     solver='lbfgs', tol=0.0001, verbose=0)"
      ]
     },
     "execution_count": 8,
     "metadata": {},
     "output_type": "execute_result"
    }
   ],
   "source": [
    "lr_cv_loaded"
   ]
  },
  {
   "cell_type": "markdown",
   "metadata": {},
   "source": [
    "### Random Forest"
   ]
  },
  {
   "cell_type": "code",
   "execution_count": 52,
   "metadata": {},
   "outputs": [],
   "source": [
    "from sklearn.ensemble import RandomForestClassifier\n",
    "from sklearn.model_selection import cross_val_score\n",
    "\n",
    "rfc = RandomForestClassifier(max_depth=2, random_state=42)\n",
    "\n",
    "#clf.fit(X_train, y_train)\n",
    "\n",
    "\n",
    "\n",
    "### cross-validate the entire process\n",
    "### thus, preprocessing occurs within each fold of cross-validation\n",
    "# cross_val_score(rfc, X_train, y_train, cv=5, scoring='accuracy').mean()\n",
    "\n",
    "\n",
    "rfc_fitting = rfc.fit(X_train, y_train)"
   ]
  },
  {
   "cell_type": "markdown",
   "metadata": {},
   "source": [
    "### Model Persistence"
   ]
  },
  {
   "cell_type": "code",
   "execution_count": 53,
   "metadata": {},
   "outputs": [
    {
     "data": {
      "text/plain": [
       "['rfc_fitting.pkl']"
      ]
     },
     "execution_count": 53,
     "metadata": {},
     "output_type": "execute_result"
    }
   ],
   "source": [
    "dump(rfc_fitting, \"rfc_fitting.pkl\")"
   ]
  },
  {
   "cell_type": "code",
   "execution_count": 56,
   "metadata": {},
   "outputs": [],
   "source": [
    "rfc_loaded = load(\"rfc_fitting.pkl\")"
   ]
  },
  {
   "cell_type": "code",
   "execution_count": 57,
   "metadata": {},
   "outputs": [
    {
     "data": {
      "text/plain": [
       "RandomForestClassifier(bootstrap=True, class_weight=None, criterion='gini',\n",
       "                       max_depth=2, max_features='auto', max_leaf_nodes=None,\n",
       "                       min_impurity_decrease=0.0, min_impurity_split=None,\n",
       "                       min_samples_leaf=1, min_samples_split=2,\n",
       "                       min_weight_fraction_leaf=0.0, n_estimators=10,\n",
       "                       n_jobs=None, oob_score=False, random_state=42, verbose=0,\n",
       "                       warm_start=False)"
      ]
     },
     "execution_count": 57,
     "metadata": {},
     "output_type": "execute_result"
    }
   ],
   "source": [
    "rfc_loaded"
   ]
  },
  {
   "cell_type": "markdown",
   "metadata": {},
   "source": [
    "### Gradient Boosted Trees"
   ]
  },
  {
   "cell_type": "code",
   "execution_count": 58,
   "metadata": {},
   "outputs": [],
   "source": [
    "from sklearn import ensemble\n",
    "\n",
    "### Fit regression model\n",
    "params = {'n_estimators': 50, 'max_depth': 2, 'min_samples_split': 2,\n",
    "          'learning_rate': 0.1}\n",
    "clf_gbt = ensemble.GradientBoostingClassifier(**params)\n",
    "\n",
    "gbtc = clf_gbt.fit(X_train, y_train)"
   ]
  },
  {
   "cell_type": "code",
   "execution_count": 59,
   "metadata": {},
   "outputs": [
    {
     "data": {
      "text/plain": [
       "['gbtc_fitting.pkl']"
      ]
     },
     "execution_count": 59,
     "metadata": {},
     "output_type": "execute_result"
    }
   ],
   "source": [
    "dump(gbtc, \"gbtc_fitting.pkl\")"
   ]
  },
  {
   "cell_type": "code",
   "execution_count": 61,
   "metadata": {},
   "outputs": [
    {
     "data": {
      "text/plain": [
       "GradientBoostingClassifier(criterion='friedman_mse', init=None,\n",
       "                           learning_rate=0.1, loss='deviance', max_depth=2,\n",
       "                           max_features=None, max_leaf_nodes=None,\n",
       "                           min_impurity_decrease=0.0, min_impurity_split=None,\n",
       "                           min_samples_leaf=1, min_samples_split=2,\n",
       "                           min_weight_fraction_leaf=0.0, n_estimators=50,\n",
       "                           n_iter_no_change=None, presort='auto',\n",
       "                           random_state=None, subsample=1.0, tol=0.0001,\n",
       "                           validation_fraction=0.1, verbose=0,\n",
       "                           warm_start=False)"
      ]
     },
     "execution_count": 61,
     "metadata": {},
     "output_type": "execute_result"
    }
   ],
   "source": [
    "gbtc_loaded = load(\"gbtc_fitting.pkl\")\n",
    "gbtc_loaded"
   ]
  },
  {
   "cell_type": "markdown",
   "metadata": {},
   "source": [
    "### Two-way ANOVA"
   ]
  },
  {
   "cell_type": "code",
   "execution_count": 60,
   "metadata": {},
   "outputs": [],
   "source": [
    "import researchpy as rp\n",
    "import statsmodels.api as sm\n",
    "from statsmodels.formula.api import ols\n",
    "import statsmodels.stats.multicomp\n"
   ]
  },
  {
   "cell_type": "code",
   "execution_count": null,
   "metadata": {},
   "outputs": [],
   "source": []
  }
 ],
 "metadata": {
  "kernelspec": {
   "display_name": "Python 3",
   "language": "python",
   "name": "python3"
  },
  "language_info": {
   "codemirror_mode": {
    "name": "ipython",
    "version": 3
   },
   "file_extension": ".py",
   "mimetype": "text/x-python",
   "name": "python",
   "nbconvert_exporter": "python",
   "pygments_lexer": "ipython3",
   "version": "3.7.3"
  }
 },
 "nbformat": 4,
 "nbformat_minor": 2
}
